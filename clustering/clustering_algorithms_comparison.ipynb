{
 "cells": [
  {
   "cell_type": "markdown",
   "id": "bc90550a-acad-461e-8b73-4894600057e7",
   "metadata": {},
   "source": [
    "# Завантаження та попередня обробка даних"
   ]
  },
  {
   "cell_type": "code",
   "execution_count": null,
   "id": "3d631f0c-e6c5-4986-9313-6e3170690cab",
   "metadata": {},
   "outputs": [],
   "source": [
    "# Підключення необхідних бібліотек\n",
    "import time\n",
    "import warnings\n",
    "import numpy as np\n",
    "import pandas as pd\n",
    "import matplotlib.pyplot as plt\n",
    "from scipy.stats import linregress\n",
    "from numpy.polynomial import Polynomial\n",
    "from sklearn.mixture import GaussianMixture\n",
    "from sklearn.cluster import KMeans, MiniBatchKMeans, BisectingKMeans"
   ]
  },
  {
   "cell_type": "code",
   "execution_count": null,
   "id": "bbbdc495-028b-413b-958f-f3c423b8e98a",
   "metadata": {},
   "outputs": [],
   "source": [
    "# # Завантаження даних з CSV-файлу\n",
    "data = pd.read_csv('temperature_data_1day.csv')\n",
    "# data = pd.read_csv('temperature_data_3days.csv')\n",
    "# data = pd.read_csv('temperature_data_5days.csv')"
   ]
  },
  {
   "cell_type": "code",
   "execution_count": null,
   "id": "26e8a31d-cb36-482c-91cc-2b48b7cf8290",
   "metadata": {},
   "outputs": [],
   "source": [
    "# Виведення перших кількох рядків даних\n",
    "print(\"Початкові дані:\")\n",
    "print(data.head())"
   ]
  },
  {
   "cell_type": "code",
   "execution_count": null,
   "id": "dbc81f7d-8ff9-4cc5-aca1-e660165b3347",
   "metadata": {},
   "outputs": [],
   "source": [
    "# Конвертація стовпця Timestamp в формат DateTime\n",
    "data['Timestamp'] = pd.to_datetime(data['Timestamp'])"
   ]
  },
  {
   "cell_type": "code",
   "execution_count": null,
   "id": "193d993a-1063-46f0-b035-486489f0352d",
   "metadata": {},
   "outputs": [],
   "source": [
    "# Визначаємо мінімальну дату, від якої будемо рахувати секунди\n",
    "min_date = data['Timestamp'].min().normalize()"
   ]
  },
  {
   "cell_type": "code",
   "execution_count": null,
   "id": "3fc4dcae-2640-4e2d-a6fb-7905fad1eafe",
   "metadata": {},
   "outputs": [],
   "source": [
    "# Обчислення секунд з початку мінімальної дати\n",
    "data['Seconds'] = (data['Timestamp'] - min_date).dt.total_seconds()"
   ]
  },
  {
   "cell_type": "code",
   "execution_count": null,
   "id": "a6b2bec4-9aee-45c0-967e-e787e1bca144",
   "metadata": {},
   "outputs": [],
   "source": [
    "# Підготовка даних для кластеризації\n",
    "X = data[['Seconds', 'Temperature']]\n",
    "print(X.head())"
   ]
  },
  {
   "cell_type": "code",
   "execution_count": null,
   "id": "ec6bef5d-8513-4a89-b6d3-dc0fda8efba0",
   "metadata": {},
   "outputs": [],
   "source": [
    "# Параметри\n",
    "clusters_range = range(2, 101) # кількість кластерів, які будуть аналізуватися"
   ]
  },
  {
   "cell_type": "markdown",
   "id": "ac39fb23-52fc-4055-8374-a4f8d590f5b0",
   "metadata": {},
   "source": [
    "# Кластеризація"
   ]
  },
  {
   "cell_type": "code",
   "execution_count": null,
   "id": "6a4e55b9-f11a-42f7-9ac8-715905308397",
   "metadata": {},
   "outputs": [],
   "source": [
    "# Функція для кластеризації даних в залежності від методу та кількості кластерів\n",
    "def cluster_data(method_of_clusterring, num_clusters):\n",
    "    # Кластеризація даних\n",
    "    if method_of_clusterring == 'kmeans':\n",
    "        model = KMeans(n_clusters=num_clusters, n_init=10, max_iter=300, tol=1e-4, random_state=0)\n",
    "    elif method_of_clusterring == 'minibatch_kmeans':\n",
    "        model = MiniBatchKMeans(n_clusters=num_clusters, n_init=10, max_iter=300, tol=1e-4, random_state=0)\n",
    "    elif method_of_clusterring == 'bisecting_kmeans':\n",
    "        model = BisectingKMeans(n_clusters=num_clusters, max_iter=300, tol=1e-4)\n",
    "    elif method_of_clusterring == 'gmm':\n",
    "        model = GaussianMixture(n_components=num_clusters, max_iter=300, tol=1e-4, random_state=0)\n",
    "    else:\n",
    "        raise ValueError(\"Невідомий метод кластеризації\")\n",
    "\n",
    "    labels = model.fit_predict(X)\n",
    "    \n",
    "    if method_of_clusterring == 'gmm':\n",
    "        centers = model.means_\n",
    "    else:\n",
    "        centers = model.cluster_centers_\n",
    "        \n",
    "    return labels, centers"
   ]
  },
  {
   "cell_type": "code",
   "execution_count": null,
   "id": "5a7d60a6-34ef-47ed-be69-f68b1145d8a9",
   "metadata": {},
   "outputs": [],
   "source": [
    "def calculate_all_clusterings(method_of_clustering, clusters_range):\n",
    "    cluster_results = {}\n",
    "    print(f\"Обчислення результатів кластеризації для методу {method_of_clustering} для кількості кластерів [{clusters_range[0]}, {clusters_range[-1]}] ...\")\n",
    "    start_time = time.time()\n",
    "    for num_clusters in clusters_range:\n",
    "        labels, centers = cluster_data(method_of_clustering, num_clusters)\n",
    "        cluster_results[num_clusters] = (labels, centers)\n",
    "    \n",
    "    # Загальний час виконання\n",
    "    end_time = time.time()\n",
    "    elapsed_time = end_time - start_time\n",
    "    minutes = int(elapsed_time // 60)\n",
    "    seconds = int(elapsed_time % 60)\n",
    "\n",
    "    print(f\"Результати кластеризації для методу {method_of_clustering} обчислено за {minutes} хвилин {seconds} секунд\")\n",
    "    print(\"-\"*20)\n",
    "    return cluster_results"
   ]
  },
  {
   "cell_type": "code",
   "execution_count": null,
   "id": "563fae91-6274-4e1d-810d-3f77e7bd6678",
   "metadata": {},
   "outputs": [],
   "source": [
    "print(\"Результати кластеризації:\")\n",
    "print(\"=\"*20)\n",
    "clusterings_data = {\n",
    "    'kmeans': calculate_all_clusterings('kmeans', clusters_range),\n",
    "    'minibatch_kmeans': calculate_all_clusterings('minibatch_kmeans', clusters_range),\n",
    "    'bisecting_kmeans': calculate_all_clusterings('bisecting_kmeans', clusters_range),\n",
    "    'gmm': calculate_all_clusterings('gmm', clusters_range)\n",
    "}"
   ]
  },
  {
   "cell_type": "code",
   "execution_count": null,
   "id": "c3326b1e-806c-4e90-82a5-f433b9b54d69",
   "metadata": {},
   "outputs": [],
   "source": [
    "# Функція для візуалізації результатів кластеризації з використанням готових даних\n",
    "def plot_cluster_results(num_clusters):\n",
    "    methods = ['kmeans', 'minibatch_kmeans', 'bisecting_kmeans', 'gmm']\n",
    "    \n",
    "    plt.figure(figsize=(20, 12))\n",
    "    \n",
    "    for i, method in enumerate(methods):\n",
    "        labels, centers = clusterings_data[method][num_clusters]\n",
    "        \n",
    "        plt.subplot(2, 2, i + 1)\n",
    "        plt.scatter(X['Seconds'], X['Temperature'], c=labels, cmap='viridis', label='Дані')\n",
    "        \n",
    "        # Виведення центрів кластерів\n",
    "        sorted_centers = centers[np.argsort(centers[:, 0])]\n",
    "        plt.scatter(sorted_centers[:, 0], sorted_centers[:, 1], c='red', s=100, marker='.', label='Центри кластерів')\n",
    "        \n",
    "        plt.xlabel('Час (в секундах)')\n",
    "        plt.ylabel('Температура')\n",
    "        plt.title(f'Результати кластеризації за допомогою {method} для {num_clusters} кластерів')\n",
    "        plt.legend()\n",
    "        plt.grid()\n",
    "\n",
    "    plt.tight_layout()\n",
    "    plt.suptitle('Результати кластеризації для різних методів', fontsize=16)\n",
    "    plt.subplots_adjust(top=0.9)\n",
    "    plt.show()"
   ]
  },
  {
   "cell_type": "code",
   "execution_count": null,
   "id": "b7552bb8-f7ba-45ed-8d55-67c72c52b70d",
   "metadata": {},
   "outputs": [],
   "source": [
    "# Візуалізація результатів кластеризації для 30 кластерів\n",
    "plot_cluster_results(30)"
   ]
  },
  {
   "cell_type": "markdown",
   "id": "594d48ef-77fb-4ab7-9232-93d84140d79c",
   "metadata": {},
   "source": [
    "# Попередній аналіз методів кластеризації"
   ]
  },
  {
   "cell_type": "markdown",
   "id": "64330943-3516-4b75-bbd7-2c4583db2633",
   "metadata": {},
   "source": [
    "## Інтерполяція та апроксимація"
   ]
  },
  {
   "cell_type": "code",
   "execution_count": null,
   "id": "559572bd-c03f-4a21-9588-46a76860a3c9",
   "metadata": {},
   "outputs": [],
   "source": [
    "def get_approximated_temperatures(x, y, method_type, poly_degree=20):\n",
    "    sorted_indices = np.argsort(x)\n",
    "    x_sorted = x[sorted_indices]\n",
    "    y_sorted = y[sorted_indices]\n",
    "    \n",
    "    if method_type == 'approximation':\n",
    "        # Апроксимація\n",
    "        with warnings.catch_warnings():\n",
    "            warnings.filterwarnings(\"ignore\", category=np.RankWarning)\n",
    "            coeffs = np.polyfit(x_sorted, y_sorted, poly_degree)\n",
    "        return np.polyval(coeffs, X['Seconds'])\n",
    "    elif method_type == 'interpolation':\n",
    "        # Інтерполяція\n",
    "        return np.interp(X['Seconds'], x_sorted, y_sorted)\n",
    "    else:\n",
    "        raise ValueError(\"Невідомий тип методу: використовуйте 'approximation' або 'interpolation'.\")"
   ]
  },
  {
   "cell_type": "code",
   "execution_count": null,
   "id": "d988b9c1-df32-47e7-92e4-ffd4011c61ff",
   "metadata": {},
   "outputs": [],
   "source": [
    "def calculate_all_approximations(method_type, clusters_range, method_of_clustering):\n",
    "    approximations = {}\n",
    "    if method_type == 'interpolation':\n",
    "        text = 'інтерпольованих'\n",
    "    else:\n",
    "        text = 'апроксимованих'\n",
    "    print(f\"Обчислення {text} даних для методу {method_of_clustering}...\")\n",
    "    for num_clusters in clusters_range:\n",
    "        labels, centers = clusterings_data[method_of_clustering][num_clusters] \n",
    "        x = centers[:, 0]\n",
    "        y = centers[:, 1] \n",
    "\n",
    "        # Обчислюємо апроксимацію або інтерполяцію\n",
    "        approximated_values = get_approximated_temperatures(x, y, method_type)\n",
    "        approximations[num_clusters] = approximated_values\n",
    "\n",
    "    print(f\"Дані для методу {method_of_clustering} обчислено\")\n",
    "    print(\"-\"*20)\n",
    "\n",
    "    return approximations"
   ]
  },
  {
   "cell_type": "code",
   "execution_count": null,
   "id": "09517540-447b-477f-b096-eb1578ae6e0f",
   "metadata": {},
   "outputs": [],
   "source": [
    "print(\"Інтерпольовані дані:\")\n",
    "print(\"=\"*20)\n",
    "interpolated_clustering_data = {\n",
    "    'kmeans': calculate_all_approximations('interpolation', clusters_range, 'kmeans'),\n",
    "    'minibatch_kmeans': calculate_all_approximations('interpolation', clusters_range, 'minibatch_kmeans'),\n",
    "    'bisecting_kmeans': calculate_all_approximations('interpolation', clusters_range, 'bisecting_kmeans'),\n",
    "    'gmm': calculate_all_approximations('interpolation', clusters_range, 'gmm')\n",
    "}"
   ]
  },
  {
   "cell_type": "code",
   "execution_count": null,
   "id": "d650ba05-b75c-41d6-ae15-07ddc0f6d203",
   "metadata": {},
   "outputs": [],
   "source": [
    "print(\"Апроксимовані дані:\")\n",
    "print(\"=\"*20)\n",
    "approximated_clustering_data = {\n",
    "    'kmeans': calculate_all_approximations('approximation', clusters_range, 'kmeans'),\n",
    "    'minibatch_kmeans': calculate_all_approximations('approximation', clusters_range, 'minibatch_kmeans'),\n",
    "    'bisecting_kmeans': calculate_all_approximations('approximation', clusters_range, 'bisecting_kmeans'),\n",
    "    'gmm': calculate_all_approximations('approximation', clusters_range, 'gmm')\n",
    "}"
   ]
  },
  {
   "cell_type": "code",
   "execution_count": null,
   "id": "779bbed9-7ea3-427b-a9ca-d1ca8ac120f4",
   "metadata": {},
   "outputs": [],
   "source": [
    "def plot_all_approximations(num_clusters, method_type):\n",
    "    methods = ['kmeans', 'minibatch_kmeans', 'bisecting_kmeans', 'gmm']\n",
    "    \n",
    "    plt.figure(figsize=(20, 12))\n",
    "    \n",
    "    if method_type == 'interpolation':\n",
    "        data = interpolated_clustering_data\n",
    "        title_text = \"Інтерполяція\"\n",
    "    elif method_type == 'approximation':\n",
    "        data = approximated_clustering_data\n",
    "        title_text = \"Апроксимація\"\n",
    "    else:\n",
    "        raise ValueError(\"Невідомий тип методу: використовуйте 'interpolation' або 'approximation'.\")\n",
    "\n",
    "    for i, method in enumerate(methods):\n",
    "        # Отримуємо інтерпольовані або апроксимовані значення для конкретного методу і кількості кластерів\n",
    "        approximated_values = data[method][num_clusters]\n",
    "        \n",
    "        # Сортуємо дані для графіку\n",
    "        sorted_indices = np.argsort(X['Seconds'])\n",
    "        x_sorted = X['Seconds'][sorted_indices]\n",
    "        y_sorted = X['Temperature'][sorted_indices]\n",
    "        approximated_sorted = np.array(approximated_values)[sorted_indices]\n",
    "        \n",
    "        # Отримуємо центри кластерів та сортуємо їх\n",
    "        _, centers = clusterings_data[method][num_clusters]\n",
    "        sorted_centers = centers[np.argsort(centers[:, 0])]\n",
    "\n",
    "        plt.subplot(2, 2, i + 1)\n",
    "        plt.scatter(x_sorted, y_sorted, color='grey', alpha=0.5, label='Початкові дані')\n",
    "        plt.plot(x_sorted, approximated_sorted, label=f'{title_text} центрів', color='orange')\n",
    "        \n",
    "        # Відображення центрів кластерів як червоних точок\n",
    "        plt.scatter(sorted_centers[:, 0], sorted_centers[:, 1], color='red', s=50, marker='o', label='Центри кластерів')\n",
    "        \n",
    "        plt.xlabel('Час (в секундах)')\n",
    "        plt.ylabel('Температура')\n",
    "        plt.title(f'{title_text} центрів кластерів для методу {method} ({num_clusters} кластерів)')\n",
    "        plt.legend()\n",
    "        plt.grid()\n",
    "\n",
    "    plt.tight_layout()\n",
    "    plt.suptitle(f'{title_text} центрів кластерів для різних методів', fontsize=16)\n",
    "    plt.subplots_adjust(top=0.9)\n",
    "    plt.show()"
   ]
  },
  {
   "cell_type": "code",
   "execution_count": null,
   "id": "8aa7b343-04f7-49a7-be5a-d1325e593686",
   "metadata": {},
   "outputs": [],
   "source": [
    "# Виклик функції для відображення інтерпольованих або апроксимованих даних\n",
    "plot_all_approximations(50, 'interpolation')\n",
    "plot_all_approximations(50, 'approximation')"
   ]
  },
  {
   "cell_type": "markdown",
   "id": "1b7a1321-6d2a-4636-b52f-1d5204f7d91c",
   "metadata": {},
   "source": [
    "## Обчислення дисперсії"
   ]
  },
  {
   "cell_type": "code",
   "execution_count": null,
   "id": "403802c9-f57f-4f2e-88e5-57c57934c4d8",
   "metadata": {},
   "outputs": [],
   "source": [
    "# Функція для обчислення дисперсії\n",
    "def calc_dispersion(interpolated_or_approximated_data):\n",
    "    n = len(X)\n",
    "    dispersion = np.sqrt(np.sum((X['Temperature'] - interpolated_or_approximated_data) ** 2) / n)\n",
    "    return dispersion"
   ]
  },
  {
   "cell_type": "code",
   "execution_count": null,
   "id": "b2d4d589-03b1-44a0-a6f4-2c8dd0960f2e",
   "metadata": {},
   "outputs": [],
   "source": [
    "def get_dispersion_value_for_single_cluster(method_of_clustering, num_clusters, method_type):\n",
    "    # Отримуємо апроксимовані або інтерпольовані температури\n",
    "    if method_type == 'interpolation':\n",
    "        approximated_temperatures = interpolated_clustering_data[method_of_clustering][num_clusters]\n",
    "    else:  # 'approximation'\n",
    "        approximated_temperatures = approximated_clustering_data[method_of_clustering][num_clusters]\n",
    "\n",
    "    # Обчислення дисперсії\n",
    "    dispersion = calc_dispersion(approximated_temperatures)\n",
    "    return dispersion"
   ]
  },
  {
   "cell_type": "code",
   "execution_count": null,
   "id": "45d0a40d-1541-4339-b235-fa90672f4ef3",
   "metadata": {},
   "outputs": [],
   "source": [
    "# Функція для обчислення дисперсії для різної кількості кластерів та методів\n",
    "def get_dispersion_values(method_of_clustering, clusters_range, method_type):\n",
    "    dispersion_values = []\n",
    "    print(f\"Обчислення дисперсії для методу {method_of_clustering}...\")\n",
    "    \n",
    "    for num_clusters in clusters_range:\n",
    "        # Отримуємо апроксимовані або інтерпольовані температури\n",
    "        if method_type == 'interpolation':\n",
    "            approximated_temperatures = interpolated_clustering_data[method_of_clustering][num_clusters]\n",
    "        else:  # 'approximation'\n",
    "            approximated_temperatures = approximated_clustering_data[method_of_clustering][num_clusters]\n",
    "\n",
    "        # Обчислення дисперсії\n",
    "        dispersion = calc_dispersion(approximated_temperatures)\n",
    "        dispersion_values.append(dispersion)\n",
    "\n",
    "    print(f\"Дисперсію для методу {method_of_clustering} обчислено\")\n",
    "    print(\"-\" * 20)\n",
    "\n",
    "    return dispersion_values"
   ]
  },
  {
   "cell_type": "code",
   "execution_count": null,
   "id": "4ed15f61-392c-4d85-a5af-4d75e4e7a2b5",
   "metadata": {},
   "outputs": [],
   "source": [
    "print(\"Значення дисперії для інтерполяції:\")\n",
    "print(\"=\"*20)\n",
    "interpolated_dispersion_data = {\n",
    "    'kmeans': get_dispersion_values('kmeans', clusters_range, 'interpolation'),\n",
    "    'minibatch_kmeans': get_dispersion_values('minibatch_kmeans', clusters_range, 'interpolation'),\n",
    "    'bisecting_kmeans': get_dispersion_values('bisecting_kmeans', clusters_range, 'interpolation'),\n",
    "    'gmm': get_dispersion_values('gmm', clusters_range, 'interpolation'),\n",
    "}"
   ]
  },
  {
   "cell_type": "code",
   "execution_count": null,
   "id": "29d77a27-bbac-41cb-ae54-a3d94bc6c940",
   "metadata": {},
   "outputs": [],
   "source": [
    "print(\"Значення дисперії для апроксимації:\")\n",
    "print(\"=\"*20)\n",
    "approximated_dispersion_data = {\n",
    "    'kmeans': get_dispersion_values('kmeans', clusters_range, 'approximation'),\n",
    "    'minibatch_kmeans': get_dispersion_values('minibatch_kmeans', clusters_range, 'approximation'),\n",
    "    'bisecting_kmeans': get_dispersion_values('bisecting_kmeans', clusters_range, 'approximation'),\n",
    "    'gmm': get_dispersion_values('gmm', clusters_range, 'approximation'),\n",
    "}"
   ]
  },
  {
   "cell_type": "code",
   "execution_count": null,
   "id": "0f12ea1e-62a7-440a-b01c-ebadf1028dc2",
   "metadata": {},
   "outputs": [],
   "source": [
    "# Функція для виведення графіків змін дисперсії для кожного методу\n",
    "def plot_all_methods_dispersion(dispersion_data, clusters_range):\n",
    "    fig, axs = plt.subplots(2, 2, figsize=(14, 10))\n",
    "    axs = axs.ravel()\n",
    "\n",
    "    for i, (method, dispersion_values) in enumerate(dispersion_data.items()):\n",
    "        axs[i].plot(clusters_range, dispersion_values, marker='o')\n",
    "        axs[i].set_title(f'Зміна дисперсії для методу {method}')\n",
    "        axs[i].set_xlabel('Кількість кластерів')\n",
    "        axs[i].set_ylabel('Дисперсія')\n",
    "        axs[i].grid(True)\n",
    "        axs[i].set_xticks(clusters_range[::4])\n",
    "\n",
    "    plt.tight_layout()\n",
    "    plt.show()\n"
   ]
  },
  {
   "cell_type": "code",
   "execution_count": null,
   "id": "2fd966ff-9fb5-42d2-9e6a-22d22ceb0636",
   "metadata": {},
   "outputs": [],
   "source": [
    "plot_all_methods_dispersion(interpolated_dispersion_data, clusters_range)\n",
    "plot_all_methods_dispersion(approximated_dispersion_data, clusters_range)"
   ]
  },
  {
   "cell_type": "markdown",
   "id": "8f2070ad-b9a2-4b4d-ab27-44ac35778c15",
   "metadata": {},
   "source": [
    "## Гістограма порівняння значень дисперсії"
   ]
  },
  {
   "cell_type": "code",
   "execution_count": null,
   "id": "e7f4ad5a-7cdf-411b-9b37-e13260710501",
   "metadata": {},
   "outputs": [],
   "source": [
    "# Функція отримання значення дисперсії для конкретного числа кластерів та методу кластеризації \n",
    "def compare_dispersion_for_clusters(num_clusters, method_type):\n",
    "    dispersions = []\n",
    "    method_names = []\n",
    "\n",
    "    for method in ['kmeans', 'minibatch_kmeans', 'bisecting_kmeans', 'gmm']:\n",
    "        if method_type == 'interpolation':\n",
    "            dispersion = interpolated_dispersion_data[method][num_clusters]\n",
    "        else:  # 'approximation'\n",
    "            dispersion = approximated_dispersion_data[method][num_clusters]\n",
    "\n",
    "        dispersions.append(dispersion)\n",
    "        method_names.append(method)\n",
    "\n",
    "    return method_names, dispersions"
   ]
  },
  {
   "cell_type": "code",
   "execution_count": null,
   "id": "515fd07c-1d54-40d5-b4bd-759b8dee48e2",
   "metadata": {},
   "outputs": [],
   "source": [
    "# Функція для побудови гістограми порівняння значень дисперсії\n",
    "def plot_dispersion_histogram(num_clusters, method_type):\n",
    "    method_names, dispersions = compare_dispersion_for_clusters(num_clusters, method_type)\n",
    "\n",
    "    y_min = min(dispersions) * 0.9\n",
    "    y_max = max(dispersions) * 1.1\n",
    "\n",
    "    # Побудова гістограми\n",
    "    plt.figure(figsize=(10, 6))\n",
    "    plt.bar(method_names, dispersions)\n",
    "    plt.xlabel('Метод кластеризації')\n",
    "    plt.ylabel('Дисперсія')\n",
    "    plt.title(f'Порівняння дисперсії для {num_clusters} кластерів між методами ({method_type.capitalize()})')\n",
    "    plt.grid(axis='y', linestyle='--', alpha=0.7)\n",
    "\n",
    "    plt.ylim(y_min, y_max)\n",
    "        \n",
    "    plt.show()"
   ]
  },
  {
   "cell_type": "code",
   "execution_count": null,
   "id": "82aeeda4-3128-49b5-b7bf-e03f91a6dc62",
   "metadata": {},
   "outputs": [],
   "source": [
    "plot_dispersion_histogram(50, 'interpolation')\n",
    "plot_dispersion_histogram(50, 'approximation')"
   ]
  },
  {
   "cell_type": "code",
   "execution_count": null,
   "id": "b0737342-6c02-40e9-95df-53f75ec98768",
   "metadata": {},
   "outputs": [],
   "source": [
    "def calculate_dispersion_differences(dispersion_values):\n",
    "    differences = []\n",
    "    for i in range(len(dispersion_values) - 1):\n",
    "        differences.append(dispersion_values[i] - dispersion_values[i + 1])\n",
    "    return differences"
   ]
  },
  {
   "cell_type": "code",
   "execution_count": null,
   "id": "cb1af3ed-a30e-4c46-a52d-e718da63ab9a",
   "metadata": {},
   "outputs": [],
   "source": [
    "# Функція для візуалізації різниць дисперсії для всіх методів на одному графіку\n",
    "def plot_all_methods_dispersion_differences(clusters_range, dispersion_data):\n",
    "    plt.figure(figsize=(12, 8))\n",
    "\n",
    "    for i, (method, dispersion_values) in enumerate(dispersion_data.items()):\n",
    "        # Отримуємо різниці дисперсій для конкретного методу\n",
    "        differences = calculate_dispersion_differences(dispersion_values)\n",
    "        \n",
    "        plt.subplot(2, 2, i + 1) \n",
    "        plt.plot(clusters_range[:-1], differences, marker='o', color='orange') \n",
    "        plt.title(f'Різницевий графік ({method})')\n",
    "        plt.xlabel('Кількість кластерів')\n",
    "        plt.ylabel('Різниця дисперсії')\n",
    "        plt.axhline(0, color='red', linestyle='--', linewidth=0.8) \n",
    "        plt.grid()\n",
    "        plt.xticks(clusters_range[::4])\n",
    "\n",
    "    plt.tight_layout()  # Оптимізація розташування підграфіків\n",
    "    plt.show()"
   ]
  },
  {
   "cell_type": "code",
   "execution_count": null,
   "id": "e6b7a50a-ee70-4a76-b2de-029562655978",
   "metadata": {},
   "outputs": [],
   "source": [
    "# plot_all_methods_dispersion_differences(clusters_range, interpolated_dispersion_data)\n",
    "# plot_all_methods_dispersion_differences(clusters_range, approximated_dispersion_data)"
   ]
  },
  {
   "cell_type": "markdown",
   "id": "4393561a-0f8d-46de-9825-09baf4f9e9fe",
   "metadata": {},
   "source": [
    "# Знаходження оптимальних параметрів кластеризації для кожного методу"
   ]
  },
  {
   "cell_type": "markdown",
   "id": "6760ff13-e524-4d3d-af1c-f9c0497c927c",
   "metadata": {
    "jp-MarkdownHeadingCollapsed": true
   },
   "source": [
    "## Вибір оптимальної кількості кластерів"
   ]
  },
  {
   "cell_type": "code",
   "execution_count": null,
   "id": "a7ac843d-84dc-45ba-86d3-0e23b91954a1",
   "metadata": {},
   "outputs": [],
   "source": [
    "def find_optimal_clusters(dispersion_data, clusters_range, method, threshold=0.05):\n",
    "    # Перевірка наявності методу в dispersion_data\n",
    "    if method not in dispersion_data:\n",
    "        raise ValueError(f\"Метод '{method}' не знайдено в даних дисперсії.\")\n",
    "\n",
    "    # Отримуємо значення дисперсії для обраного методу\n",
    "    dispersion_values = dispersion_data[method]\n",
    "    \n",
    "    # Виконуємо лінійну регресію для кластерів від 20 до кінця\n",
    "    start_idx = 20 - 2 \n",
    "    x_regression = np.array(clusters_range[start_idx:])\n",
    "    y_regression = np.array(dispersion_values[start_idx:])\n",
    "\n",
    "    # Лінійна регресія\n",
    "    slope, intercept, _, _, _ = linregress(x_regression, y_regression)\n",
    "    fitted_line = slope * np.array(clusters_range) + intercept\n",
    "\n",
    "    print(f\"Обчислення оптимальної кількості кластерів для методу {method}...\")\n",
    "    \n",
    "    # Пошук оптимальної кількості кластерів за відхиленням менше за поріг\n",
    "    for i in range(len(dispersion_values)):\n",
    "        deviation = np.abs(dispersion_values[i] - fitted_line[i])\n",
    "        if deviation < threshold:\n",
    "            print(f\"Оптимальна кількість кластерів для методу {method}: {clusters_range[i]}\")\n",
    "            print(\"-\"*20)\n",
    "            return clusters_range[i]  # Повертає оптимальну кількість кластерів\n",
    "\n",
    "    return None  # Оптимальну кількість кластерів не знайдено в межах порогу"
   ]
  },
  {
   "cell_type": "code",
   "execution_count": null,
   "id": "4675b987-d2a1-44ab-bdf5-35d2c26b8eb0",
   "metadata": {},
   "outputs": [],
   "source": [
    "print(\"Знаходження оптимальної кількості кластерів:\")\n",
    "print(\"=\"*20)\n",
    "optimal_clusters = {\n",
    "    'kmeans': find_optimal_clusters(interpolated_dispersion_data, clusters_range, 'kmeans'),\n",
    "    'minibatch_kmeans': find_optimal_clusters(interpolated_dispersion_data, clusters_range, 'minibatch_kmeans'),\n",
    "    'bisecting_kmeans': find_optimal_clusters(interpolated_dispersion_data, clusters_range, 'bisecting_kmeans'),\n",
    "    'gmm': find_optimal_clusters(interpolated_dispersion_data, clusters_range, 'gmm')\n",
    "}"
   ]
  },
  {
   "cell_type": "code",
   "execution_count": null,
   "id": "30e0ca46-4cc8-417d-b9e7-79212914fa1c",
   "metadata": {},
   "outputs": [],
   "source": [
    "def plot_all_methods_dispersion_with_regression(dispersion_data, clusters_range, optimal_clusters):\n",
    "    plt.figure(figsize=(14, 10))\n",
    "\n",
    "    for i, method in enumerate(dispersion_data.keys()):\n",
    "        # Отримуємо значення дисперсії для обраного методу\n",
    "        dispersion_values = dispersion_data[method]\n",
    "\n",
    "        # Лінійна регресія для кластерів від 20 до кінця\n",
    "        start_idx = 20 - 2 \n",
    "        x = np.array(clusters_range[start_idx:]) \n",
    "        y = np.array(dispersion_values[start_idx:])\n",
    "\n",
    "        # Лінійна регресія\n",
    "        slope, intercept, _, _, _ = linregress(x, y)\n",
    "        fitted_line_full = slope * np.array(clusters_range) + intercept\n",
    "\n",
    "        # Побудова графіку дисперсії і лінії регресії\n",
    "        plt.subplot(2, 2, i + 1) \n",
    "        plt.plot(clusters_range, dispersion_values, marker='o', label='Дисперсія', color='blue')\n",
    "        plt.plot(clusters_range, fitted_line_full, color='orange', linestyle='--', label='Лінійна регресія')\n",
    "\n",
    "        # Виділення оптимальної кількості кластерів\n",
    "        if optimal_clusters[method] is not None:\n",
    "            optimal_index = optimal_clusters[method] - clusters_range[0] \n",
    "            optimal_dispersion = dispersion_values[optimal_index]\n",
    "            plt.scatter(optimal_clusters[method], optimal_dispersion, color='red', s=100, label='Оптимальна кількість кластерів')\n",
    "\n",
    "        plt.title(f'Зміна дисперсії з лінійною регресією ({method})')\n",
    "        plt.xlabel('Кількість кластерів')\n",
    "        plt.ylabel('Дисперсія')\n",
    "        plt.axhline(0, color='grey', linestyle='--', linewidth=0.8)\n",
    "        plt.grid()\n",
    "        plt.xticks(clusters_range[::4])\n",
    "        plt.legend()\n",
    "\n",
    "    plt.tight_layout()\n",
    "    plt.show()\n"
   ]
  },
  {
   "cell_type": "code",
   "execution_count": null,
   "id": "6448acf4-5aa8-4d09-807f-ab9218d62570",
   "metadata": {},
   "outputs": [],
   "source": [
    "# Виклик функції для відображення графіків\n",
    "plot_all_methods_dispersion_with_regression(interpolated_dispersion_data, clusters_range, optimal_clusters)"
   ]
  },
  {
   "cell_type": "markdown",
   "id": "96b75f38-7f6e-49ea-b48d-f60603f91f22",
   "metadata": {
    "jp-MarkdownHeadingCollapsed": true
   },
   "source": [
    "## Вибір оптимального ступеня полінома"
   ]
  },
  {
   "cell_type": "code",
   "execution_count": null,
   "id": "4fa46bb3-f3e9-4572-b3de-626946d84950",
   "metadata": {},
   "outputs": [],
   "source": [
    "def find_optimal_polynomial_degree(clusterings_data, num_clusters, method_of_clustering):\n",
    "    # Отримуємо центри кластерів\n",
    "    centers = clusterings_data[method_of_clustering][num_clusters][1]\n",
    "    \n",
    "    x = centers[:, 0]  # Перший стовпець центрів - це значення 'Seconds'\n",
    "    y = centers[:, 1]  # Другий стовпець центрів - це значення 'Temperature'\n",
    "\n",
    "    optimal_degree = None\n",
    "    min_dispersion = float('inf')\n",
    "    polynomial_degrees = list(range(1, 31))  # Ступені полінома від 1 до 30\n",
    "\n",
    "    print(f\"Обчислення оптимальної кількості поліномів для методу {method_of_clustering}...\")\n",
    "\n",
    "    # Ігноруємо попередження про переповнення\n",
    "    with warnings.catch_warnings():\n",
    "        warnings.simplefilter(\"ignore\", RuntimeWarning)\n",
    "\n",
    "        for poly_degree in polynomial_degrees:\n",
    "            approximated_temperatures = get_approximated_temperatures(x, y, 'approximation', poly_degree=poly_degree)\n",
    "            dispersion = calc_dispersion(approximated_temperatures)\n",
    "\n",
    "            # Перевірка на мінімальне значення дисперсії\n",
    "            if dispersion < min_dispersion:\n",
    "                min_dispersion = dispersion\n",
    "                optimal_degree = poly_degree  # Оновлюємо оптимальний поліном\n",
    "\n",
    "    print(f\"Оптимальна кількість поліномів знайдена: {optimal_degree}\")\n",
    "    print(\"-\" * 20)\n",
    "    return optimal_degree"
   ]
  },
  {
   "cell_type": "code",
   "execution_count": null,
   "id": "a3212357-c500-4101-a808-026309974aba",
   "metadata": {},
   "outputs": [],
   "source": [
    "# Виклик функції для обчислення оптимальних поліномів\n",
    "print(\"Знаходження оптимальної кількості поліномів:\")\n",
    "print(\"=\"*20)\n",
    "optimal_polynomial_degrees = {\n",
    "    'kmeans': find_optimal_polynomial_degree(clusterings_data, optimal_clusters['kmeans'], 'kmeans'),\n",
    "    'minibatch_kmeans': find_optimal_polynomial_degree(clusterings_data, optimal_clusters['minibatch_kmeans'], 'minibatch_kmeans'),\n",
    "    'bisecting_kmeans': find_optimal_polynomial_degree(clusterings_data, optimal_clusters['bisecting_kmeans'], 'bisecting_kmeans'),\n",
    "    'gmm': find_optimal_polynomial_degree(clusterings_data, optimal_clusters['gmm'], 'gmm')\n",
    "}"
   ]
  },
  {
   "cell_type": "code",
   "execution_count": null,
   "id": "4c76eab6-e1e2-4abb-aaa1-77fd53ff1cbb",
   "metadata": {},
   "outputs": [],
   "source": [
    "def plot_polynomial_dispersion(optimal_polynomial_degrees, clusterings_data):\n",
    "    # Створення фігури з 4 підграфіками\n",
    "    fig, axs = plt.subplots(2, 2, figsize=(12, 10))\n",
    "    axs = axs.flatten() \n",
    "\n",
    "    polynomial_degrees = list(range(1, 31))  # Ступені полінома від 1 до 30\n",
    "\n",
    "    for i, method in enumerate(optimal_polynomial_degrees.keys()):\n",
    "        centers = clusterings_data[method][optimal_clusters[method]][1]\n",
    "        x = centers[:, 0]  # 'Seconds'\n",
    "        y = centers[:, 1]  # 'Temperature'\n",
    "\n",
    "        dispersions = []\n",
    "        for poly_degree in polynomial_degrees:\n",
    "            approximated_temperatures = get_approximated_temperatures(x, y, 'approximation', poly_degree=poly_degree)\n",
    "            dispersion = calc_dispersion(approximated_temperatures)\n",
    "            dispersions.append(dispersion)\n",
    "\n",
    "        # Візуалізація\n",
    "        axs[i].plot(polynomial_degrees, dispersions, marker='o', label='Дисперсія')\n",
    "        axs[i].axvline(optimal_polynomial_degrees[method], color='r', linestyle='--', label='Оптимальний поліном')\n",
    "        axs[i].set_title(f'Метод: {method}')\n",
    "        axs[i].set_xlabel('Ступінь полінома')\n",
    "        axs[i].set_ylabel('Дисперсія')\n",
    "        axs[i].legend()\n",
    "        axs[i].grid()\n",
    "\n",
    "    plt.tight_layout()\n",
    "    plt.show()"
   ]
  },
  {
   "cell_type": "code",
   "execution_count": null,
   "id": "54ded7cc-61ed-46bc-b64b-081fe41d121a",
   "metadata": {
    "scrolled": true
   },
   "outputs": [],
   "source": [
    "# Виклик функції для побудови графіків\n",
    "plot_polynomial_dispersion(optimal_polynomial_degrees, clusterings_data)"
   ]
  },
  {
   "cell_type": "markdown",
   "id": "65cc51bf-a9ee-4bc8-bd54-3b03946ef048",
   "metadata": {
    "jp-MarkdownHeadingCollapsed": true
   },
   "source": [
    "## Обчислення дисперсії з оптимальними параметрами для кожного з методів"
   ]
  },
  {
   "cell_type": "code",
   "execution_count": null,
   "id": "4796d35f-93b2-4df0-b0d6-92beb4a5bf9b",
   "metadata": {},
   "outputs": [],
   "source": [
    "# Функція для вибору результатів кластеризації з оптимальною кількістю кластерів\n",
    "def get_optimal_clustering_data(method, num_clusters):\n",
    "    labels, centers = clusterings_data[method][num_clusters]\n",
    "    x = centers[:, 0] \n",
    "    y = centers[:, 1] \n",
    "    return x, y"
   ]
  },
  {
   "cell_type": "code",
   "execution_count": null,
   "id": "6450c7f6-27fd-4056-a0ac-d5f0a2d21ca4",
   "metadata": {},
   "outputs": [],
   "source": [
    "def calculate_dispersion_results():\n",
    "    results = {\n",
    "        'kmeans': {},\n",
    "        'minibatch_kmeans': {},\n",
    "        'bisecting_kmeans': {},\n",
    "        'gmm': {}\n",
    "    }\n",
    "\n",
    "    # Отримуємо оптимальні результати кластеризації, апроксимовані та інтерпольовані дані з оптимальними параметрами\n",
    "    for method in results.keys():\n",
    "        # Оптимальна кількість кластерів та поліномів\n",
    "        optimal_clusters_num = optimal_clusters[method]\n",
    "        optimal_poly_degree = optimal_polynomial_degrees[method]\n",
    "\n",
    "        # Дані центроїдів для оптимальної кількості кластерів\n",
    "        x, y = get_optimal_clustering_data(method, optimal_clusters_num)\n",
    "        \n",
    "        # Інтерпольовані дані\n",
    "        interpolated_data = get_approximated_temperatures(x, y, 'interpolation')\n",
    "        # Апроксимовані дані з оптимальним ступенем полінома\n",
    "        approximated_data = get_approximated_temperatures(x, y, 'approximation', poly_degree=optimal_poly_degree)\n",
    "        \n",
    "        # Обчислення дисперсій\n",
    "        results[method]['interpolation_dispersion'] = calc_dispersion(interpolated_data)\n",
    "        results[method]['approximation_dispersion'] = calc_dispersion(approximated_data)\n",
    "\n",
    "    return results"
   ]
  },
  {
   "cell_type": "markdown",
   "id": "d4c6ae46-9c68-4c7d-8eb8-360385e61fd4",
   "metadata": {
    "jp-MarkdownHeadingCollapsed": true
   },
   "source": [
    "# Оцінка методів наближення функцій та методів кластеризації"
   ]
  },
  {
   "cell_type": "code",
   "execution_count": null,
   "id": "516c2d54-54cc-4d5e-b230-b8c5e1c45741",
   "metadata": {},
   "outputs": [],
   "source": [
    "# Функція для виведення гістограми для всіх методів\n",
    "def plot_all_methods_histogram(results):\n",
    "    methods = list(results.keys())\n",
    "    interpolation_dispersions = [results[method]['interpolation_dispersion'] for method in methods]\n",
    "    approximation_dispersions = [results[method]['approximation_dispersion'] for method in methods]\n",
    "\n",
    "    plt.figure(figsize=(10, 6))\n",
    "    bar_width = 0.35\n",
    "    x = np.arange(len(methods))\n",
    "\n",
    "    plt.bar(x - bar_width/2, interpolation_dispersions, bar_width, label='Інтерполяція', color='b', alpha=0.7)\n",
    "    plt.bar(x + bar_width/2, approximation_dispersions, bar_width, label='Апроксимація', color='r', alpha=0.7)\n",
    "\n",
    "    plt.ylabel('Дисперсія')\n",
    "    plt.title('Дисперсія для Інтерполяції та Апроксимації за Методами Кластеризації')\n",
    "    plt.xticks(x, methods)\n",
    "\n",
    "    plt.axhline(y=0, color='k', linewidth=0.8)\n",
    "    plt.legend()\n",
    "    plt.grid(axis='y')\n",
    "    plt.show()"
   ]
  },
  {
   "cell_type": "code",
   "execution_count": null,
   "id": "27aa72fd-1d39-4201-a82a-7b3246b2a745",
   "metadata": {},
   "outputs": [],
   "source": [
    "# Функція для виведення гістограми лише для інтерполяції\n",
    "def plot_interpolation_histogram(results):\n",
    "    methods = list(results.keys())\n",
    "    interpolation_dispersions = [results[method]['interpolation_dispersion'] for method in methods]\n",
    "\n",
    "    plt.figure(figsize=(10, 6))\n",
    "    plt.bar(methods, interpolation_dispersions, color='b', alpha=0.7)\n",
    "    plt.ylabel('Дисперсія')\n",
    "    plt.title('Дисперсія для Інтерполяції за Методами Кластеризації')\n",
    "\n",
    "    # Змінюємо масштаб вісі Y\n",
    "    min_y = min(interpolation_dispersions) * 0.9\n",
    "    max_y = max(interpolation_dispersions) * 1.1\n",
    "    plt.ylim(min_y, max_y)\n",
    "\n",
    "    plt.axhline(y=0, color='k', linewidth=0.8)\n",
    "    plt.grid(axis='y')\n",
    "    plt.show()"
   ]
  },
  {
   "cell_type": "code",
   "execution_count": null,
   "id": "8992e28e-62ee-4401-a95d-b0985c65cbe2",
   "metadata": {},
   "outputs": [],
   "source": [
    "# Функція для виведення гістограми лише для апроксимації\n",
    "def plot_approximation_histogram(results):\n",
    "    methods = list(results.keys())\n",
    "    approximation_dispersions = [results[method]['approximation_dispersion'] for method in methods]\n",
    "\n",
    "    plt.figure(figsize=(10, 6))\n",
    "    plt.bar(methods, approximation_dispersions, color='r', alpha=0.7)\n",
    "    plt.ylabel('Дисперсія')\n",
    "    plt.title('Дисперсія для Апроксимації за Методами Кластеризації')\n",
    "\n",
    "    # Змінюємо масштаб вісі Y\n",
    "    min_y = min(approximation_dispersions) * 0.9\n",
    "    max_y = max(approximation_dispersions) * 1.1\n",
    "    plt.ylim(min_y, max_y)\n",
    "\n",
    "    plt.axhline(y=0, color='k', linewidth=0.8)\n",
    "    plt.grid(axis='y')\n",
    "    plt.show()"
   ]
  },
  {
   "cell_type": "code",
   "execution_count": null,
   "id": "5e2a50b1-f435-4c20-9765-31fc48df2789",
   "metadata": {},
   "outputs": [],
   "source": [
    "# Функція для виведення графіків інтерполяції\n",
    "def plot_interpolation_graphs(results, clusterings_data, optimal_clusters, optimal_polynomial_degrees):\n",
    "    methods = list(results.keys())\n",
    "    plt.figure(figsize=(16, 10))\n",
    "\n",
    "    for i, method in enumerate(methods):\n",
    "        num_clusters = optimal_clusters[method]\n",
    "        x, y = get_optimal_clustering_data(method, num_clusters)\n",
    "\n",
    "        # Отримання інтерпольованих даних з оптимальними параметрами\n",
    "        interpolated_temperatures = get_approximated_temperatures(x, y, method_type='interpolation')\n",
    "\n",
    "        # Сортування даних для коректного графіка\n",
    "        sorted_indices = np.argsort(X['Seconds'])\n",
    "        x_sorted = X['Seconds'][sorted_indices]\n",
    "        y_sorted = X['Temperature'][sorted_indices]\n",
    "        interpolated_temperatures_sorted = interpolated_temperatures[sorted_indices]\n",
    "\n",
    "        plt.subplot(2, 2, i + 1)\n",
    "        plt.scatter(x_sorted, y_sorted, color='grey', alpha=0.5, label='Початкові дані')\n",
    "        plt.plot(x_sorted, interpolated_temperatures_sorted, color='blue', label='Інтерполяція')\n",
    "        plt.title(f'{method} - Інтерполяція')\n",
    "        plt.xlabel('Seconds')\n",
    "        plt.ylabel('Temperature')\n",
    "        plt.legend()\n",
    "        plt.grid()\n",
    "\n",
    "    plt.tight_layout()\n",
    "    plt.show()"
   ]
  },
  {
   "cell_type": "code",
   "execution_count": null,
   "id": "d62e9379-1955-4b44-a2da-c41c30a247a0",
   "metadata": {},
   "outputs": [],
   "source": [
    "# Функція для виведення графіків апроксимації\n",
    "def plot_approximation_graphs(results, clusterings_data, optimal_clusters, optimal_polynomial_degrees):\n",
    "    methods = list(results.keys())\n",
    "    plt.figure(figsize=(16, 10))\n",
    "\n",
    "    for i, method in enumerate(methods):\n",
    "        num_clusters = optimal_clusters[method]\n",
    "        x, y = get_optimal_clustering_data(method, num_clusters)\n",
    "\n",
    "        # Отримання апроксимованих даних з оптимальними параметрами\n",
    "        polynomial_degree = optimal_polynomial_degrees[method]\n",
    "        approximated_temperatures = get_approximated_temperatures(x, y, method_type='approximation', poly_degree=polynomial_degree)\n",
    "\n",
    "        # Сортування даних для коректного графіка\n",
    "        sorted_indices = np.argsort(X['Seconds'])\n",
    "        x_sorted = X['Seconds'][sorted_indices]\n",
    "        y_sorted = X['Temperature'][sorted_indices]\n",
    "        approximated_temperatures_sorted = approximated_temperatures[sorted_indices]\n",
    "\n",
    "        plt.subplot(2, 2, i + 1)\n",
    "        plt.scatter(x_sorted, y_sorted, color='grey', alpha=0.5, label='Початкові дані')\n",
    "        plt.plot(x_sorted, approximated_temperatures_sorted, color='red', label='Апроксимація')\n",
    "        plt.title(f'{method} - Апроксимація')\n",
    "        plt.xlabel('Seconds')\n",
    "        plt.ylabel('Temperature')\n",
    "        plt.legend()\n",
    "        plt.grid()\n",
    "\n",
    "    plt.tight_layout()\n",
    "    plt.show()"
   ]
  },
  {
   "cell_type": "code",
   "execution_count": null,
   "id": "f628a84e-b506-4564-a98f-8aa9081d3df7",
   "metadata": {},
   "outputs": [],
   "source": [
    "dispersion_results = calculate_dispersion_results()"
   ]
  },
  {
   "cell_type": "code",
   "execution_count": null,
   "id": "332270a1-6c85-46e8-852d-9b163d6287d6",
   "metadata": {},
   "outputs": [],
   "source": [
    "def get_results_for_both_methods():\n",
    "    plot_all_methods_histogram(dispersion_results)"
   ]
  },
  {
   "cell_type": "code",
   "execution_count": null,
   "id": "0911df69-6ff9-409f-94b5-30842739e680",
   "metadata": {},
   "outputs": [],
   "source": [
    "def get_results_for_interpolation():\n",
    "    plot_interpolation_histogram(dispersion_results)\n",
    "    plot_interpolation_graphs(dispersion_results, clusterings_data, optimal_clusters, optimal_polynomial_degrees)"
   ]
  },
  {
   "cell_type": "code",
   "execution_count": null,
   "id": "8729b5e0-c106-458f-b7af-5046f1153258",
   "metadata": {},
   "outputs": [],
   "source": [
    "def get_results_for_approximation():\n",
    "    plot_approximation_histogram(dispersion_results)\n",
    "    plot_approximation_graphs(dispersion_results, clusterings_data, optimal_clusters, optimal_polynomial_degrees)"
   ]
  },
  {
   "cell_type": "code",
   "execution_count": null,
   "id": "2bac2f55-fb84-45b6-a8c3-06d62d83105d",
   "metadata": {},
   "outputs": [],
   "source": [
    "get_results_for_both_methods()"
   ]
  },
  {
   "cell_type": "code",
   "execution_count": null,
   "id": "f488f4fc-1247-4f71-81b6-eaf1177d2f4a",
   "metadata": {},
   "outputs": [],
   "source": [
    "get_results_for_interpolation()"
   ]
  },
  {
   "cell_type": "code",
   "execution_count": null,
   "id": "e30dd17f-d473-446e-8695-43ac69917da9",
   "metadata": {},
   "outputs": [],
   "source": [
    "get_results_for_approximation()"
   ]
  }
 ],
 "metadata": {
  "kernelspec": {
   "display_name": "Python 3 (ipykernel)",
   "language": "python",
   "name": "python3"
  },
  "language_info": {
   "codemirror_mode": {
    "name": "ipython",
    "version": 3
   },
   "file_extension": ".py",
   "mimetype": "text/x-python",
   "name": "python",
   "nbconvert_exporter": "python",
   "pygments_lexer": "ipython3",
   "version": "3.11.7"
  }
 },
 "nbformat": 4,
 "nbformat_minor": 5
}
